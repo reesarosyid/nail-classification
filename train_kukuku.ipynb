{
 "cells": [
  {
   "attachments": {},
   "cell_type": "markdown",
   "metadata": {},
   "source": [
    "# Import Library such as pandas, numpy, etc."
   ]
  },
  {
   "cell_type": "code",
   "execution_count": 1,
   "metadata": {},
   "outputs": [],
   "source": [
    "import pandas as pd\n",
    "import numpy as np\n",
    "import matplotlib.pyplot as plt\n",
    "from matplotlib import style\n",
    "import os\n",
    "import zipfile\n",
    "import shutil\n",
    "import tensorflow as tf\n",
    "from keras_preprocessing.image import ImageDataGenerator\n",
    "plt.style.use('ggplot')\n",
    "from tensorflow.keras.models import Sequential\n",
    "from tensorflow.keras.layers import Dense, Flatten, Dropout\n",
    "from tensorflow.keras import regularizers\n",
    "from tensorflow.keras.utils import load_img, img_to_array\n",
    "from PIL import Image\n",
    "import random\n",
    "import shutil\n",
    "from tensorflow.keras.optimizers import Adam\n",
    "from tensorflow.keras.preprocessing.image import ImageDataGenerator\n",
    "from tensorflow.keras.layers import Conv2D, MaxPooling2D, Flatten, Dense, Dropout\n",
    "from tensorflow.keras.models import Sequential\n",
    "from tensorflow.keras.callbacks import EarlyStopping, ModelCheckpoint\n",
    "from keras_preprocessing.image import ImageDataGenerator\n",
    "from tensorflow.keras.callbacks import LearningRateScheduler"
   ]
  },
  {
   "attachments": {},
   "cell_type": "markdown",
   "metadata": {},
   "source": [
    "# Setting dataset directory"
   ]
  },
  {
   "cell_type": "code",
   "execution_count": 2,
   "metadata": {},
   "outputs": [
    {
     "name": "stdout",
     "output_type": "stream",
     "text": [
      "Folders : ['Acral Lentiginous Melanoma', 'Beaus Line', 'Blue Finger', 'Clubbing', 'Healthy Nail', 'Koilonychia', 'Muehrckes Lines', 'Onychogryphosis', 'Pitting', 'Terry-s Nail']\n",
      "10 class ['Acral Lentiginous Melanoma', 'Beaus Line', 'Blue Finger', 'Clubbing', 'Healthy Nail', 'Koilonychia', 'Muehrckes Lines', 'Onychogryphosis', 'Pitting', 'Terry-s Nail']\n"
     ]
    }
   ],
   "source": [
    "dir = './Redata/'\n",
    "\n",
    "data_dir_list = os.listdir(dir)\n",
    "print('Folders :', os.listdir(dir))\n",
    "classes = sorted(os.listdir(dir))\n",
    "file_count = len(classes)\n",
    "print(len(classes), 'class', classes)"
   ]
  },
  {
   "cell_type": "code",
   "execution_count": 3,
   "metadata": {},
   "outputs": [],
   "source": [
    "base_dir = './dataset'\n",
    "if not os.path.exists(base_dir):\n",
    "        os.makedirs(base_dir)"
   ]
  },
  {
   "cell_type": "code",
   "execution_count": 4,
   "metadata": {},
   "outputs": [],
   "source": [
    "train_dir = os.path.join(base_dir, 'train')\n",
    "if not os.path.exists(train_dir):\n",
    "    os.mkdir(train_dir)\n",
    "    \n",
    "valid_dir = os.path.join(base_dir, 'valid')\n",
    "if not os.path.exists(valid_dir):\n",
    "    os.mkdir(valid_dir)\n",
    "\n",
    "for i in classes:\n",
    "    train_class_dir = os.path.join(train_dir, i)\n",
    "    if not os.path.exists(train_class_dir):\n",
    "        os.mkdir(train_class_dir)\n",
    "    valid_class_dir = os.path.join(valid_dir, i)\n",
    "    if not os.path.exists(valid_class_dir):\n",
    "        os.mkdir(valid_class_dir)"
   ]
  },
  {
   "cell_type": "code",
   "execution_count": 5,
   "metadata": {},
   "outputs": [
    {
     "name": "stdout",
     "output_type": "stream",
     "text": [
      "['Acral Lentiginous Melanoma', 'Beaus Line', 'Blue Finger', 'Clubbing', 'Healthy Nail', 'Koilonychia', 'Muehrckes Lines', 'Onychogryphosis', 'Pitting', 'Terry-s Nail']\n"
     ]
    }
   ],
   "source": [
    "print(classes)"
   ]
  },
  {
   "attachments": {},
   "cell_type": "markdown",
   "metadata": {},
   "source": [
    "# Splitting data"
   ]
  },
  {
   "cell_type": "code",
   "execution_count": 6,
   "metadata": {},
   "outputs": [],
   "source": [
    "def split_data(SOURCE, TRAINING, TESTING, SPLIT_SIZE):\n",
    "    all_files = []\n",
    "    \n",
    "    for file_name in os.listdir(SOURCE):\n",
    "        file_path = SOURCE + file_name\n",
    "\n",
    "        if os.path.getsize(file_path):\n",
    "            all_files.append(file_name)\n",
    "        else:\n",
    "            print('{} is zero length, so ignoring'.format(file_name))\n",
    "    \n",
    "    n_files = len(all_files)\n",
    "    split_point = int(n_files * SPLIT_SIZE)\n",
    "    \n",
    "    shuffled = random.sample(all_files, n_files)\n",
    "    \n",
    "    train_set = shuffled[:split_point]\n",
    "    test_set = shuffled[split_point:]\n",
    "    \n",
    "    for file_name in train_set:\n",
    "        shutil.copyfile(SOURCE + file_name, TRAINING + file_name)\n",
    "        \n",
    "    for file_name in test_set:\n",
    "        shutil.copyfile(SOURCE + file_name, TESTING + file_name)"
   ]
  },
  {
   "cell_type": "code",
   "execution_count": 7,
   "metadata": {},
   "outputs": [],
   "source": [
    "split_size = .8\n",
    "\n",
    "source_dir = './Redata/'\n",
    "train_dir = './dataset/train/'\n",
    "valid_dir = './dataset/valid/'\n",
    "\n",
    "for i in classes:\n",
    "  class_source_dir = f'./Redata/{i}/'\n",
    "  class_train_dir = f'./dataset/train/{i}/'\n",
    "  class_valid_dir = f'./dataset/valid/{i}/'\n",
    "  split_data(class_source_dir, class_train_dir, class_valid_dir, split_size)"
   ]
  },
  {
   "cell_type": "code",
   "execution_count": 8,
   "metadata": {},
   "outputs": [
    {
     "name": "stdout",
     "output_type": "stream",
     "text": [
      "Training Acral Lentiginous Melanoma images are: 350\n",
      "Training Beaus Line images are: 349\n",
      "Training Blue Finger images are: 350\n",
      "Training Clubbing images are: 348\n",
      "Training Healthy Nail images are: 349\n",
      "Training Koilonychia images are: 349\n",
      "Training Muehrckes Lines images are: 350\n",
      "Training Onychogryphosis images are: 350\n",
      "Training Pitting images are: 350\n",
      "Training Terry-s Nail images are: 349\n"
     ]
    }
   ],
   "source": [
    "for i in classes:\n",
    "    print('Training {} images are: '.format(i)+str(len(os.listdir(train_dir + '/' + i + '/'))))"
   ]
  },
  {
   "cell_type": "code",
   "execution_count": 9,
   "metadata": {},
   "outputs": [
    {
     "name": "stdout",
     "output_type": "stream",
     "text": [
      "Valid Acral Lentiginous Melanoma images are: 206\n",
      "Valid Beaus Line images are: 207\n",
      "Valid Blue Finger images are: 202\n",
      "Valid Clubbing images are: 198\n",
      "Valid Healthy Nail images are: 213\n",
      "Valid Koilonychia images are: 214\n",
      "Valid Muehrckes Lines images are: 205\n",
      "Valid Onychogryphosis images are: 208\n",
      "Valid Pitting images are: 206\n",
      "Valid Terry-s Nail images are: 199\n"
     ]
    }
   ],
   "source": [
    "for i in classes:\n",
    "    print('Valid {} images are: '.format(i)+str(len(os.listdir(valid_dir + '/' + i + '/'))))"
   ]
  },
  {
   "attachments": {},
   "cell_type": "markdown",
   "metadata": {},
   "source": [
    "# Modelling"
   ]
  },
  {
   "cell_type": "code",
   "execution_count": 10,
   "metadata": {},
   "outputs": [],
   "source": [
    "def train_val_generators(TRAINING_DIR, VALIDATION_DIR):\n",
    "  \n",
    "  tf.random.set_seed(42)\n",
    "  \n",
    "  train_datagen = ImageDataGenerator(rescale = 1./255.)\n",
    "\n",
    "  train_generator = train_datagen.flow_from_directory(directory=TRAINING_DIR,\n",
    "                                                      batch_size=64,\n",
    "                                                      class_mode='categorical',\n",
    "                                                      target_size=(224, 224),\n",
    "                                                      seed = 42)\n",
    "\n",
    "  validation_datagen = ImageDataGenerator(rescale = 1./255.)\n",
    "\n",
    "  validation_generator = validation_datagen.flow_from_directory(directory=VALIDATION_DIR,\n",
    "                                                                batch_size= 64,\n",
    "                                                                class_mode='categorical',\n",
    "                                                                target_size=(224, 224),\n",
    "                                                                seed = 42)\n",
    "  return train_generator, validation_generator"
   ]
  },
  {
   "cell_type": "code",
   "execution_count": 11,
   "metadata": {},
   "outputs": [
    {
     "name": "stdout",
     "output_type": "stream",
     "text": [
      "Found 3494 images belonging to 10 classes.\n",
      "Found 2058 images belonging to 10 classes.\n"
     ]
    }
   ],
   "source": [
    "TRAINING_DIR = \"./dataset/train/\"\n",
    "VALIDATION_DIR = \"./dataset/valid/\"\n",
    "train_generator, validation_generator = train_val_generators(TRAINING_DIR, VALIDATION_DIR)"
   ]
  },
  {
   "cell_type": "code",
   "execution_count": 12,
   "metadata": {},
   "outputs": [],
   "source": [
    "class myCallback(tf.keras.callbacks.Callback):\n",
    "    # Define the method that checks the accuracy at the end of each epoch\n",
    "        def on_epoch_end(self, epoch, logs={}):\n",
    "            if logs.get('accuracy') is not None and logs.get('accuracy') > 0.90: # @KEEP\n",
    "                print(\"\\nReached 90% accuracy so cancelling training!\") \n",
    "                \n",
    "                # Stop training once the above condition is met\n",
    "                self.model.stop_training = True"
   ]
  },
  {
   "cell_type": "code",
   "execution_count": 13,
   "metadata": {},
   "outputs": [],
   "source": [
    "def create_model():\n",
    "    base_model = tf.keras.applications.resnet_v2.ResNet50V2(input_shape=(224, 224, 3),\n",
    "                                               include_top=False,\n",
    "                                               weights='imagenet')\n",
    "    \n",
    "    for layer in base_model.layers:\n",
    "        layer.trainable = False\n",
    "    \n",
    "    model = Sequential()\n",
    "    model.add(base_model)\n",
    "    model.add(Flatten())\n",
    "    model.add(Dense(256, activation='relu'))\n",
    "    model.add(Dense(10, activation='softmax'))\n",
    "    model.compile(optimizer= tf.keras.optimizers.RMSprop(),\n",
    "                loss= 'categorical_crossentropy',\n",
    "                metrics=['accuracy']) \n",
    "    return model"
   ]
  },
  {
   "cell_type": "code",
   "execution_count": 14,
   "metadata": {},
   "outputs": [],
   "source": [
    "def lr_scheduler(epoch, learning_rate):\n",
    "    if epoch < 10:\n",
    "        return learning_rate\n",
    "    else:\n",
    "        return learning_rate * tf.math.exp(-0.1)"
   ]
  },
  {
   "cell_type": "code",
   "execution_count": 15,
   "metadata": {},
   "outputs": [
    {
     "name": "stdout",
     "output_type": "stream",
     "text": [
      "Model: \"sequential\"\n",
      "_________________________________________________________________\n",
      " Layer (type)                Output Shape              Param #   \n",
      "=================================================================\n",
      " resnet50v2 (Functional)     (None, 7, 7, 2048)        23564800  \n",
      "                                                                 \n",
      " flatten (Flatten)           (None, 100352)            0         \n",
      "                                                                 \n",
      " dense (Dense)               (None, 256)               25690368  \n",
      "                                                                 \n",
      " dense_1 (Dense)             (None, 10)                2570      \n",
      "                                                                 \n",
      "=================================================================\n",
      "Total params: 49,257,738\n",
      "Trainable params: 25,692,938\n",
      "Non-trainable params: 23,564,800\n",
      "_________________________________________________________________\n"
     ]
    }
   ],
   "source": [
    "model = create_model()\n",
    "callbacks = myCallback()\n",
    "callback = tf.keras.callbacks.EarlyStopping(monitor='loss', patience=5)\n",
    "lr_callback = LearningRateScheduler(lr_scheduler)\n",
    "\n",
    "model.summary()"
   ]
  },
  {
   "cell_type": "code",
   "execution_count": 16,
   "metadata": {},
   "outputs": [
    {
     "data": {
      "text/plain": [
       "'from numba import cuda\\ncuda.select_device(0)\\ncuda.close()'"
      ]
     },
     "execution_count": 16,
     "metadata": {},
     "output_type": "execute_result"
    }
   ],
   "source": [
    "'''from numba import cuda\n",
    "cuda.select_device(0)\n",
    "cuda.close()'''"
   ]
  },
  {
   "cell_type": "code",
   "execution_count": 17,
   "metadata": {},
   "outputs": [
    {
     "name": "stdout",
     "output_type": "stream",
     "text": [
      "Epoch 1/30\n",
      "55/55 [==============================] - 26s 372ms/step - loss: 23.4766 - accuracy: 0.3746 - val_loss: 2.5410 - val_accuracy: 0.5811 - lr: 0.0010\n",
      "Epoch 2/30\n",
      "55/55 [==============================] - 8s 137ms/step - loss: 2.4878 - accuracy: 0.6365 - val_loss: 1.1935 - val_accuracy: 0.7400 - lr: 0.0010\n",
      "Epoch 3/30\n",
      "55/55 [==============================] - 8s 137ms/step - loss: 1.2862 - accuracy: 0.7730 - val_loss: 0.3640 - val_accuracy: 0.8897 - lr: 0.0010\n",
      "Epoch 4/30\n",
      "55/55 [==============================] - 8s 137ms/step - loss: 0.5841 - accuracy: 0.8718 - val_loss: 0.0886 - val_accuracy: 0.9684 - lr: 0.0010\n",
      "Epoch 5/30\n",
      "55/55 [==============================] - 8s 138ms/step - loss: 0.4400 - accuracy: 0.9164 - val_loss: 0.2705 - val_accuracy: 0.9325 - lr: 0.0010\n",
      "Epoch 6/30\n",
      "55/55 [==============================] - 8s 138ms/step - loss: 0.2280 - accuracy: 0.9402 - val_loss: 0.3307 - val_accuracy: 0.9203 - lr: 0.0010\n",
      "Epoch 7/30\n",
      "55/55 [==============================] - 8s 137ms/step - loss: 0.1607 - accuracy: 0.9634 - val_loss: 0.0292 - val_accuracy: 0.9888 - lr: 0.0010\n",
      "Epoch 8/30\n",
      "55/55 [==============================] - 8s 138ms/step - loss: 0.2322 - accuracy: 0.9622 - val_loss: 0.0933 - val_accuracy: 0.9733 - lr: 0.0010\n",
      "Epoch 9/30\n",
      "55/55 [==============================] - 8s 138ms/step - loss: 0.1259 - accuracy: 0.9777 - val_loss: 0.7647 - val_accuracy: 0.8863 - lr: 0.0010\n",
      "Epoch 10/30\n",
      "55/55 [==============================] - 8s 138ms/step - loss: 0.1341 - accuracy: 0.9728 - val_loss: 0.3758 - val_accuracy: 0.9271 - lr: 0.0010\n",
      "Epoch 11/30\n",
      "55/55 [==============================] - 8s 137ms/step - loss: 0.0728 - accuracy: 0.9845 - val_loss: 0.0315 - val_accuracy: 0.9908 - lr: 9.0484e-04\n",
      "Epoch 12/30\n",
      "55/55 [==============================] - 8s 140ms/step - loss: 0.0574 - accuracy: 0.9883 - val_loss: 0.0164 - val_accuracy: 0.9947 - lr: 8.1873e-04\n",
      "Epoch 13/30\n",
      "55/55 [==============================] - 8s 142ms/step - loss: 0.0202 - accuracy: 0.9960 - val_loss: 0.0323 - val_accuracy: 0.9917 - lr: 7.4082e-04\n",
      "Epoch 14/30\n",
      "55/55 [==============================] - 8s 144ms/step - loss: 0.0159 - accuracy: 0.9966 - val_loss: 0.0030 - val_accuracy: 0.9985 - lr: 6.7032e-04\n",
      "Epoch 15/30\n",
      "55/55 [==============================] - 8s 142ms/step - loss: 1.5305e-04 - accuracy: 1.0000 - val_loss: 0.0061 - val_accuracy: 0.9995 - lr: 6.0653e-04\n",
      "Epoch 16/30\n",
      "55/55 [==============================] - 8s 149ms/step - loss: 1.0432e-05 - accuracy: 1.0000 - val_loss: 0.0011 - val_accuracy: 0.9995 - lr: 5.4881e-04\n",
      "Epoch 17/30\n",
      "55/55 [==============================] - 8s 150ms/step - loss: 4.9256e-07 - accuracy: 1.0000 - val_loss: 8.1590e-04 - val_accuracy: 0.9995 - lr: 4.9659e-04\n",
      "Epoch 18/30\n",
      "55/55 [==============================] - 8s 144ms/step - loss: 1.2129e-07 - accuracy: 1.0000 - val_loss: 4.8297e-04 - val_accuracy: 0.9995 - lr: 4.4933e-04\n",
      "Epoch 19/30\n",
      "55/55 [==============================] - 8s 141ms/step - loss: 3.6438e-08 - accuracy: 1.0000 - val_loss: 5.8053e-04 - val_accuracy: 0.9995 - lr: 4.0657e-04\n",
      "Epoch 20/30\n",
      "55/55 [==============================] - 8s 139ms/step - loss: 1.3988e-08 - accuracy: 1.0000 - val_loss: 7.8349e-04 - val_accuracy: 0.9995 - lr: 3.6788e-04\n",
      "Epoch 21/30\n",
      "55/55 [==============================] - 8s 139ms/step - loss: 7.5743e-09 - accuracy: 1.0000 - val_loss: 8.2388e-04 - val_accuracy: 0.9995 - lr: 3.3287e-04\n",
      "Epoch 22/30\n",
      "55/55 [==============================] - 8s 147ms/step - loss: 4.8448e-09 - accuracy: 1.0000 - val_loss: 8.5962e-04 - val_accuracy: 0.9995 - lr: 3.0119e-04\n",
      "Epoch 23/30\n",
      "55/55 [==============================] - 8s 145ms/step - loss: 3.4118e-09 - accuracy: 1.0000 - val_loss: 0.0012 - val_accuracy: 0.9995 - lr: 2.7253e-04\n",
      "Epoch 24/30\n",
      "55/55 [==============================] - 8s 137ms/step - loss: 3.1048e-09 - accuracy: 1.0000 - val_loss: 0.0011 - val_accuracy: 0.9995 - lr: 2.4660e-04\n",
      "Epoch 25/30\n",
      "55/55 [==============================] - 8s 139ms/step - loss: 2.3883e-09 - accuracy: 1.0000 - val_loss: 0.0012 - val_accuracy: 0.9995 - lr: 2.2313e-04\n",
      "Epoch 26/30\n",
      "55/55 [==============================] - 8s 138ms/step - loss: 2.0812e-09 - accuracy: 1.0000 - val_loss: 0.0013 - val_accuracy: 0.9995 - lr: 2.0190e-04\n",
      "Epoch 27/30\n",
      "55/55 [==============================] - 7s 136ms/step - loss: 1.9106e-09 - accuracy: 1.0000 - val_loss: 0.0013 - val_accuracy: 0.9995 - lr: 1.8268e-04\n",
      "Epoch 28/30\n",
      "55/55 [==============================] - 8s 138ms/step - loss: 1.7742e-09 - accuracy: 1.0000 - val_loss: 0.0013 - val_accuracy: 0.9995 - lr: 1.6530e-04\n",
      "Epoch 29/30\n",
      "55/55 [==============================] - 8s 137ms/step - loss: 1.6377e-09 - accuracy: 1.0000 - val_loss: 0.0013 - val_accuracy: 0.9995 - lr: 1.4957e-04\n",
      "Epoch 30/30\n",
      "55/55 [==============================] - 8s 140ms/step - loss: 1.7400e-09 - accuracy: 1.0000 - val_loss: 0.0014 - val_accuracy: 0.9995 - lr: 1.3534e-04\n"
     ]
    }
   ],
   "source": [
    "history = model.fit(train_generator,\n",
    "                    validation_data=validation_generator,\n",
    "                    epochs=30,\n",
    "                    callbacks=[lr_callback, callback])"
   ]
  },
  {
   "cell_type": "code",
   "execution_count": 18,
   "metadata": {},
   "outputs": [
    {
     "data": {
      "image/png": "[encoded data removed]",
      "text/plain": [
       "<Figure size 640x480 with 1 Axes>"
      ]
     },
     "metadata": {},
     "output_type": "display_data"
    },
    {
     "data": {
      "image/png": "[encoded data removed]",
      "text/plain": [
       "<Figure size 640x480 with 1 Axes>"
      ]
     },
     "metadata": {},
     "output_type": "display_data"
    }
   ],
   "source": [
    "# Plot the chart for accuracy and loss on both training and validation\n",
    "acc = history.history['accuracy']\n",
    "val_acc = history.history['val_accuracy']\n",
    "loss = history.history['loss']\n",
    "val_loss = history.history['val_loss']\n",
    "\n",
    "epochs = range(len(acc))\n",
    "\n",
    "plt.plot(epochs, acc, 'r', label='Training accuracy')\n",
    "plt.plot(epochs, val_acc, 'b', label='Validation accuracy')\n",
    "plt.title('Training and validation accuracy')\n",
    "plt.legend()\n",
    "plt.figure()\n",
    "\n",
    "plt.plot(epochs, loss, 'r', label='Training Loss')\n",
    "plt.plot(epochs, val_loss, 'b', label='Validation Loss')\n",
    "plt.title('Training and validation loss')\n",
    "plt.legend()\n",
    "\n",
    "plt.show()"
   ]
  },
  {
   "cell_type": "code",
   "execution_count": null,
   "metadata": {},
   "outputs": [],
   "source": []
  }
 ],
 "metadata": {
  "kernelspec": {
   "display_name": "tf",
   "language": "python",
   "name": "python3"
  },
  "language_info": {
   "codemirror_mode": {
    "name": "ipython",
    "version": 3
   },
   "file_extension": ".py",
   "mimetype": "text/x-python",
   "name": "python",
   "nbconvert_exporter": "python",
   "pygments_lexer": "ipython3",
   "version": "3.9.16"
  },
  "orig_nbformat": 4
 },
 "nbformat": 4,
 "nbformat_minor": 2
}
